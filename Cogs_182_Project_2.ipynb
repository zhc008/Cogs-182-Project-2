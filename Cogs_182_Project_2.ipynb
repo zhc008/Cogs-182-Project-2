{
  "nbformat": 4,
  "nbformat_minor": 0,
  "metadata": {
    "colab": {
      "name": "Cogs 182 Project 2.ipynb",
      "provenance": [],
      "collapsed_sections": []
    },
    "kernelspec": {
      "name": "python3",
      "display_name": "Python 3"
    }
  },
  "cells": [
    {
      "cell_type": "code",
      "metadata": {
        "id": "9xvGzZmSfGxT"
      },
      "source": [
        "import numpy as np\r\n",
        "import random\r\n",
        "import matplotlib.pyplot as plt\r\n",
        "import copy"
      ],
      "execution_count": null,
      "outputs": []
    },
    {
      "cell_type": "code",
      "metadata": {
        "id": "f2XXxXl_fuAc"
      },
      "source": [
        "# scramble the cube by n random steps\r\n",
        "def scramble(cube, n):\r\n",
        "  for i in range(n):\r\n",
        "    action = random.randint(0,5)\r\n",
        "    cube, reward = step(cube, action)\r\n",
        "    #print(action)\r\n",
        "  return cube"
      ],
      "execution_count": null,
      "outputs": []
    },
    {
      "cell_type": "code",
      "metadata": {
        "id": "n4hJk92EfRHd"
      },
      "source": [
        "# create a solved 2x2 rubik's cube\r\n",
        "def create_cube():\r\n",
        "  cube = np.ones((6,2,2))\r\n",
        "  for i in range(6):\r\n",
        "    cube[i,:,:] = cube[i,:,:] * i\r\n",
        "  return cube"
      ],
      "execution_count": null,
      "outputs": []
    },
    {
      "cell_type": "code",
      "metadata": {
        "id": "5uh_WFIMo4kM"
      },
      "source": [
        "# display the flattened cube:\r\n",
        "#       up\r\n",
        "# left front right\r\n",
        "#      down\r\n",
        "#      back\r\n",
        "def display_cube(cube):\r\n",
        "  print('       ', cube[0,0,:])\r\n",
        "  print('       ', cube[0,1,:])\r\n",
        "  print(cube[4,0,:], cube[1,0,:], cube[5,0,:])\r\n",
        "  print(cube[4,1,:], cube[1,1,:], cube[5,1,:])\r\n",
        "  print('       ', cube[2,0,:])\r\n",
        "  print('       ', cube[2,1,:])\r\n",
        "  print('back')\r\n",
        "  print('       ', cube[3,0,:])\r\n",
        "  print('       ', cube[3,1,:])"
      ],
      "execution_count": null,
      "outputs": []
    },
    {
      "cell_type": "code",
      "metadata": {
        "id": "HgwRD06rtJ2X"
      },
      "source": [
        "# cube is the state\r\n",
        "# 6 actions in total:\r\n",
        "# turn top layer left or right (0 or 1)\r\n",
        "# turn right part up or down (2 or 3)\r\n",
        "# turn back layer clockwise or counter-clockwise (4 or 5)\r\n",
        "def step(cube1, action):\r\n",
        "  cube = copy.deepcopy(cube1)\r\n",
        "  reward = 0\r\n",
        "  if action == 0: # turn top layer left\r\n",
        "    front = np.copy(cube[1,0,:])\r\n",
        "    cube[1,0,:] = cube[5,0,:] # right goes to front\r\n",
        "    cube[5,0,:] = cube[3,0,:] # back goes to right\r\n",
        "    cube[3,0,:] = cube[4,0,:] # left goes to back\r\n",
        "    cube[4,0,:] = front # front goes to left\r\n",
        "    # turn the up face clockwise\r\n",
        "    up00 = np.copy(cube[0,0,0])\r\n",
        "    cube[0,0,0] = cube[0,1,0]\r\n",
        "    cube[0,1,0] = cube[0,1,1]\r\n",
        "    cube[0,1,1] = cube[0,0,1]\r\n",
        "    cube[0,0,1] = up00\r\n",
        "  elif action == 1: # turn top layer right\r\n",
        "    front = np.copy(cube[1,0,:])\r\n",
        "    cube[1,0,:] = cube[4,0,:] # left goes to front\r\n",
        "    cube[4,0,:] = cube[3,0,:] # back goes to left\r\n",
        "    cube[3,0,:] = cube[5,0,:] # right goes to back\r\n",
        "    cube[5,0,:] = front # front goes to right\r\n",
        "    # turn the up face counter-clockwise\r\n",
        "    up00 = np.copy(cube[0,0,0])\r\n",
        "    cube[0,0,0] = cube[0,0,1]\r\n",
        "    cube[0,0,1] = cube[0,1,1]\r\n",
        "    cube[0,1,1] = cube[0,1,0]\r\n",
        "    cube[0,1,0] = up00\r\n",
        "  elif action == 2: # turn right part up\r\n",
        "    front = np.copy(cube[1,:,1])\r\n",
        "    cube[1,:,1] = cube[2,:,1] # down goes to front\r\n",
        "    cube[2,0,1] = cube[3,1,0] # back goes to down\r\n",
        "    cube[2,1,1] = cube[3,0,0] # back goes to down\r\n",
        "    cube[3,1,0] = cube[0,0,1] # up goes to back\r\n",
        "    cube[3,0,0] = cube[0,1,1] # up goes to back\r\n",
        "    cube[0,:,1] = front # front goes to up\r\n",
        "    # turn the right face clockwise\r\n",
        "    right00 = np.copy(cube[5,0,0])\r\n",
        "    cube[5,0,0] = cube[5,1,0]\r\n",
        "    cube[5,1,0] = cube[5,1,1]\r\n",
        "    cube[5,1,1] = cube[5,0,1]\r\n",
        "    cube[5,0,1] = right00\r\n",
        "  elif action == 3: # turn right part down\r\n",
        "    front = np.copy(cube[1,:,1])\r\n",
        "    cube[1,:,1] = cube[0,:,1] # up goes to front\r\n",
        "    cube[0,0,1] = cube[3,1,0] # back goes to up\r\n",
        "    cube[0,1,1] = cube[3,0,0] # back goes to up\r\n",
        "    cube[3,1,0] = cube[2,0,1] # down goes to back\r\n",
        "    cube[3,0,0] = cube[2,1,1] # down goes to back\r\n",
        "    cube[2,:,1] = front # front goes to down\r\n",
        "    # turn the right face counter-clockwise\r\n",
        "    right00 = np.copy(cube[5,0,0])\r\n",
        "    cube[5,0,0] = cube[5,0,1]\r\n",
        "    cube[5,0,1] = cube[5,1,1]\r\n",
        "    cube[5,1,1] = cube[5,1,0]\r\n",
        "    cube[5,1,0] = right00\r\n",
        "  elif action == 4: # turn back layer clockwise\r\n",
        "    up = np.copy(cube[0,0,:])\r\n",
        "    cube[0,0,0] = cube[4,1,0] # left goes to up\r\n",
        "    cube[0,0,1] = cube[4,0,0] # left goes to up\r\n",
        "    cube[4,:,0] = cube[2,1,:] # down goes to left\r\n",
        "    cube[2,1,0] = cube[5,1,1] # right goes to down\r\n",
        "    cube[2,1,1] = cube[5,0,1] # right goes to down\r\n",
        "    cube[5,:,1] = up # up goes to right\r\n",
        "    # turn the back face counter-clockwise\r\n",
        "    back00 = np.copy(cube[3,0,0])\r\n",
        "    cube[3,0,0] = cube[3,0,1]\r\n",
        "    cube[3,0,1] = cube[3,1,1]\r\n",
        "    cube[3,1,1] = cube[3,1,0]\r\n",
        "    cube[3,1,0] = back00\r\n",
        "  elif action == 5: # turn back layer counter-clockwise\r\n",
        "    up = np.copy(cube[0,0,:])\r\n",
        "    cube[0,0,:] = cube[5,:,1] # right goes to up\r\n",
        "    cube[5,0,1] = cube[2,1,1] # down goes to right\r\n",
        "    cube[5,1,1] = cube[2,1,0] # down goes to right\r\n",
        "    cube[2,1,:] = cube[4,:,0] # left goes to down\r\n",
        "    cube[4,1,0] = up[0] # up goes to left\r\n",
        "    cube[4,0,0] = up[1] # up goes to left\r\n",
        "    # turn the back face clockwise\r\n",
        "    back00 = np.copy(cube[3,0,0])\r\n",
        "    cube[3,0,0] = cube[3,1,0]\r\n",
        "    cube[3,1,0] = cube[3,1,1]\r\n",
        "    cube[3,1,1] = cube[3,0,1]\r\n",
        "    cube[3,0,1] = back00\r\n",
        "  if (map_to_8(create_cube())==map_to_8(cube)).all():\r\n",
        "    reward = 1\r\n",
        "  return cube, reward"
      ],
      "execution_count": null,
      "outputs": []
    },
    {
      "cell_type": "code",
      "metadata": {
        "id": "a0t3lNALk3oy"
      },
      "source": [
        "# Helper function of map_to_8(), help identify the label of the small cube\r\n",
        "# The labels are from 0-7\r\n",
        "def map_helper(color):\r\n",
        "  color_sum = np.sum(color)\r\n",
        "  cube_label = 4 # color_sum = 5\r\n",
        "  if color_sum == 6:\r\n",
        "    cube_label = 5\r\n",
        "  elif color_sum == 7:\r\n",
        "    cube_label = 0\r\n",
        "    if 0 in color: \r\n",
        "      cube_label = 6\r\n",
        "  elif color_sum == 8:\r\n",
        "    cube_label = 1\r\n",
        "    if 0 in color:\r\n",
        "      cube_label = 7\r\n",
        "  elif color_sum == 9:\r\n",
        "    cube_label = 2\r\n",
        "  elif color_sum == 10:\r\n",
        "    cube_label = 3\r\n",
        "  return cube_label"
      ],
      "execution_count": null,
      "outputs": []
    },
    {
      "cell_type": "code",
      "metadata": {
        "id": "VE1YL6dRjKPC"
      },
      "source": [
        "# map the cube to 8 small cubes representation, which has less information\r\n",
        "# about the cube, but also smaller state space\r\n",
        "def map_to_8(cube):\r\n",
        "  color = np.zeros((8, 3))\r\n",
        "  # small cube at front bottom left corner\r\n",
        "  color[0,0] = cube[4,1,1]\r\n",
        "  color[0,1] = cube[1,1,0]\r\n",
        "  color[0,2] = cube[2,0,0]\r\n",
        "  # small cube at front bottom right corner\r\n",
        "  color[1,0] = cube[5,1,0]\r\n",
        "  color[1,1] = cube[1,1,1]\r\n",
        "  color[1,2] = cube[2,0,1]\r\n",
        "  # small cube at back bottom left corner\r\n",
        "  color[2,0] = cube[4,1,0]\r\n",
        "  color[2,1] = cube[2,1,0]\r\n",
        "  color[2,2] = cube[3,1,1]\r\n",
        "  # small cube at back bottom right corner\r\n",
        "  color[3,0] = cube[5,1,1]\r\n",
        "  color[3,1] = cube[2,1,1]\r\n",
        "  color[3,2] = cube[3,1,0]\r\n",
        "  # small cube at front top left corner\r\n",
        "  color[4,0] = cube[0,1,0]\r\n",
        "  color[4,1] = cube[4,0,1]\r\n",
        "  color[4,2] = cube[1,0,0]\r\n",
        "  # small cube at front top right corner\r\n",
        "  color[5,0] = cube[0,1,1]\r\n",
        "  color[5,1] = cube[5,0,0]\r\n",
        "  color[5,2] = cube[1,0,1]\r\n",
        "  # small cube at back top left corner\r\n",
        "  color[6,0] = cube[0,0,0]\r\n",
        "  color[6,1] = cube[4,0,0]\r\n",
        "  color[6,2] = cube[3,0,1]\r\n",
        "  # small cube at back top right corner\r\n",
        "  color[7,0] = cube[0,0,1]\r\n",
        "  color[7,1] = cube[5,0,1]\r\n",
        "  color[7,2] = cube[3,0,0]\r\n",
        "  cube_labels = np.zeros((8))\r\n",
        "  for i in range(np.size(color, 0)):\r\n",
        "    cube_labels[i] = map_helper(color[i,:])\r\n",
        "  return cube_labels"
      ],
      "execution_count": null,
      "outputs": []
    },
    {
      "cell_type": "code",
      "metadata": {
        "id": "XVa4ek_4sUoJ"
      },
      "source": [
        "# visualize the cube labels in the form of two matrices\r\n",
        "# one represents the top layer, the other the bottom layer\r\n",
        "# a solved cube would looks like:\r\n",
        "# [6. 7.]\r\n",
        "# [4. 5.]\r\n",
        "# =     =\r\n",
        "# [2. 3.]\r\n",
        "# [0. 1.]\r\n",
        "def display_cube_labels(cube_labels):\r\n",
        "  top_layer = np.zeros((2,2))\r\n",
        "  bottom_layer = np.zeros((2,2))\r\n",
        "  bottom_layer[0,0] = cube_labels[2]\r\n",
        "  bottom_layer[0,1] = cube_labels[3]\r\n",
        "  bottom_layer[1,0] = cube_labels[0]\r\n",
        "  bottom_layer[1,1] = cube_labels[1]\r\n",
        "  top_layer[0,0] = cube_labels[6]\r\n",
        "  top_layer[0,1] = cube_labels[7]\r\n",
        "  top_layer[1,0] = cube_labels[4]\r\n",
        "  top_layer[1,1] = cube_labels[5]\r\n",
        "  print(top_layer[0,:])\r\n",
        "  print(top_layer[1,:])\r\n",
        "  print('=     =')\r\n",
        "  print(bottom_layer[0,:])\r\n",
        "  print(bottom_layer[1,:])"
      ],
      "execution_count": null,
      "outputs": []
    },
    {
      "cell_type": "code",
      "metadata": {
        "colab": {
          "base_uri": "https://localhost:8080/"
        },
        "id": "D4wZnsvFWVcn",
        "outputId": "711f654c-2d5b-485a-ca42-44ee3e0d9a4a"
      },
      "source": [
        "# check map_to_8 function\r\n",
        "take_steps = [4,2,0,4,2,1,5,3,2,4]\r\n",
        "cube = create_cube()\r\n",
        "for i in take_steps:\r\n",
        "  cube,reward = step(cube, i)\r\n",
        "  print(i)\r\n",
        "  #display_cube(cube)\r\n",
        "  display_cube_labels(map_to_8(cube))"
      ],
      "execution_count": null,
      "outputs": [
        {
          "output_type": "stream",
          "text": [
            "4\n",
            "[2. 6.]\n",
            "[4. 5.]\n",
            "=     =\n",
            "[3. 7.]\n",
            "[0. 1.]\n",
            "2\n",
            "[2. 5.]\n",
            "[4. 1.]\n",
            "=     =\n",
            "[3. 6.]\n",
            "[0. 7.]\n",
            "0\n",
            "[4. 2.]\n",
            "[1. 5.]\n",
            "=     =\n",
            "[3. 6.]\n",
            "[0. 7.]\n",
            "4\n",
            "[3. 4.]\n",
            "[1. 5.]\n",
            "=     =\n",
            "[6. 2.]\n",
            "[0. 7.]\n",
            "2\n",
            "[3. 5.]\n",
            "[1. 7.]\n",
            "=     =\n",
            "[6. 4.]\n",
            "[0. 2.]\n",
            "1\n",
            "[5. 7.]\n",
            "[3. 1.]\n",
            "=     =\n",
            "[6. 4.]\n",
            "[0. 2.]\n",
            "5\n",
            "[7. 4.]\n",
            "[3. 1.]\n",
            "=     =\n",
            "[5. 6.]\n",
            "[0. 2.]\n",
            "3\n",
            "[7. 6.]\n",
            "[3. 4.]\n",
            "=     =\n",
            "[5. 2.]\n",
            "[0. 1.]\n",
            "2\n",
            "[7. 4.]\n",
            "[3. 1.]\n",
            "=     =\n",
            "[5. 6.]\n",
            "[0. 2.]\n",
            "4\n",
            "[5. 7.]\n",
            "[3. 1.]\n",
            "=     =\n",
            "[6. 4.]\n",
            "[0. 2.]\n"
          ],
          "name": "stdout"
        }
      ]
    },
    {
      "cell_type": "code",
      "metadata": {
        "colab": {
          "base_uri": "https://localhost:8080/"
        },
        "id": "edfjcVPi4RV9",
        "outputId": "006dc99e-91ba-42d6-8434-3a3cb79adae4"
      },
      "source": [
        "# check step\r\n",
        "solved_cube = create_cube()\r\n",
        "for i in range(6):\r\n",
        "  cube = create_cube()\r\n",
        "  cube,reward = step(cube, i)\r\n",
        "  display_cube(cube)\r\n",
        "  print('reward: ', reward)"
      ],
      "execution_count": null,
      "outputs": [
        {
          "output_type": "stream",
          "text": [
            "        [0. 0.]\n",
            "        [0. 0.]\n",
            "[1. 1.] [5. 5.] [3. 3.]\n",
            "[4. 4.] [1. 1.] [5. 5.]\n",
            "        [2. 2.]\n",
            "        [2. 2.]\n",
            "back\n",
            "        [4. 4.]\n",
            "        [3. 3.]\n",
            "reward:  0\n",
            "        [0. 0.]\n",
            "        [0. 0.]\n",
            "[3. 3.] [4. 4.] [1. 1.]\n",
            "[4. 4.] [1. 1.] [5. 5.]\n",
            "        [2. 2.]\n",
            "        [2. 2.]\n",
            "back\n",
            "        [5. 5.]\n",
            "        [3. 3.]\n",
            "reward:  0\n",
            "        [0. 1.]\n",
            "        [0. 1.]\n",
            "[4. 4.] [1. 2.] [5. 5.]\n",
            "[4. 4.] [1. 2.] [5. 5.]\n",
            "        [2. 3.]\n",
            "        [2. 3.]\n",
            "back\n",
            "        [0. 3.]\n",
            "        [0. 3.]\n",
            "reward:  0\n",
            "        [0. 3.]\n",
            "        [0. 3.]\n",
            "[4. 4.] [1. 0.] [5. 5.]\n",
            "[4. 4.] [1. 0.] [5. 5.]\n",
            "        [2. 1.]\n",
            "        [2. 1.]\n",
            "back\n",
            "        [2. 3.]\n",
            "        [2. 3.]\n",
            "reward:  0\n",
            "        [4. 4.]\n",
            "        [0. 0.]\n",
            "[2. 4.] [1. 1.] [5. 0.]\n",
            "[2. 4.] [1. 1.] [5. 0.]\n",
            "        [2. 2.]\n",
            "        [5. 5.]\n",
            "back\n",
            "        [3. 3.]\n",
            "        [3. 3.]\n",
            "reward:  0\n",
            "        [5. 5.]\n",
            "        [0. 0.]\n",
            "[0. 4.] [1. 1.] [5. 2.]\n",
            "[0. 4.] [1. 1.] [5. 2.]\n",
            "        [2. 2.]\n",
            "        [4. 4.]\n",
            "back\n",
            "        [3. 3.]\n",
            "        [3. 3.]\n",
            "reward:  0\n"
          ],
          "name": "stdout"
        }
      ]
    },
    {
      "cell_type": "code",
      "metadata": {
        "colab": {
          "base_uri": "https://localhost:8080/"
        },
        "id": "XgT-unc_6W5U",
        "outputId": "e34a18f5-21b9-4962-cb57-74c927e580a2"
      },
      "source": [
        "# check step\r\n",
        "cube = create_cube()\r\n",
        "cube,reward = step(cube, 2)\r\n",
        "display_cube(cube)\r\n",
        "print('reward: ', reward)\r\n",
        "cube,reward = step(cube, 5)\r\n",
        "display_cube(cube)\r\n",
        "print('reward: ', reward)\r\n",
        "cube,reward = step(cube, 4)\r\n",
        "display_cube(cube)\r\n",
        "print('reward: ', reward)\r\n",
        "cube,reward = step(cube, 3)\r\n",
        "display_cube(cube)\r\n",
        "print('reward: ', reward)"
      ],
      "execution_count": null,
      "outputs": [
        {
          "output_type": "stream",
          "text": [
            "        [0. 1.]\n",
            "        [0. 1.]\n",
            "[4. 4.] [1. 2.] [5. 5.]\n",
            "[4. 4.] [1. 2.] [5. 5.]\n",
            "        [2. 3.]\n",
            "        [2. 3.]\n",
            "back\n",
            "        [0. 3.]\n",
            "        [0. 3.]\n",
            "reward:  0\n",
            "        [5. 5.]\n",
            "        [0. 1.]\n",
            "[1. 4.] [1. 2.] [5. 3.]\n",
            "[0. 4.] [1. 2.] [5. 2.]\n",
            "        [2. 3.]\n",
            "        [4. 4.]\n",
            "back\n",
            "        [0. 0.]\n",
            "        [3. 3.]\n",
            "reward:  0\n",
            "        [0. 1.]\n",
            "        [0. 1.]\n",
            "[4. 4.] [1. 2.] [5. 5.]\n",
            "[4. 4.] [1. 2.] [5. 5.]\n",
            "        [2. 3.]\n",
            "        [2. 3.]\n",
            "back\n",
            "        [0. 3.]\n",
            "        [0. 3.]\n",
            "reward:  0\n",
            "        [0. 0.]\n",
            "        [0. 0.]\n",
            "[4. 4.] [1. 1.] [5. 5.]\n",
            "[4. 4.] [1. 1.] [5. 5.]\n",
            "        [2. 2.]\n",
            "        [2. 2.]\n",
            "back\n",
            "        [3. 3.]\n",
            "        [3. 3.]\n",
            "reward:  1\n"
          ],
          "name": "stdout"
        }
      ]
    },
    {
      "cell_type": "code",
      "metadata": {
        "id": "zF5FYVjXB1aW"
      },
      "source": [
        "# using binary feature to represent the states\r\n",
        "# The features are the location of the 8 small cubes.\r\n",
        "# The length of the feature vector would be 8*8\r\n",
        "def featurize(cube):\r\n",
        "  #features = np.zeros((4*6+7*8))\r\n",
        "  #for i in range(6):\r\n",
        "  #  buffer = cube[i,:,:].reshape((4))\r\n",
        "  #  diff_colors = len(set(buffer)) - 1 # diff_colors = 0 when there is only one color\r\n",
        "  #  for j in range(4):\r\n",
        "  #    if j == diff_colors:\r\n",
        "  #      features[i*4 + j] = 1\r\n",
        "  #pre_index = 4*6\r\n",
        "  features = np.zeros((8*8))\r\n",
        "  cube_8 = map_to_8(cube)\r\n",
        "  for i in range(8):\r\n",
        "    #if i != 4: # the fixed corner\r\n",
        "      cube_index = np.where(cube_8 == i)[0][0]\r\n",
        "     # print(i, ':',cube_index)\r\n",
        "      features[i*8 + cube_index] = 1\r\n",
        "     # print(pre_index + i*8 + cube_index)\r\n",
        "    #else:\r\n",
        "     # pre_index -= 8\r\n",
        "  return features"
      ],
      "execution_count": null,
      "outputs": []
    },
    {
      "cell_type": "code",
      "metadata": {
        "id": "kT87YZgul6Hw"
      },
      "source": [
        "# represent the action by features as a vector of length 6\r\n",
        "# where each entry represnts whether the action at that index is taken\r\n",
        "def action_features(action):\r\n",
        "  action_feature = np.zeros((6))\r\n",
        "  action_feature[action] = 1\r\n",
        "  return action_feature"
      ],
      "execution_count": null,
      "outputs": []
    },
    {
      "cell_type": "code",
      "metadata": {
        "id": "m4U96R-yyM_L"
      },
      "source": [
        "# combine the action_feature and cube features, which is a vector of length 6*8*8\r\n",
        "def combine_features(cube_features, action_feature):\r\n",
        "  combined_features = np.zeros((len(cube_features),len(action_feature)))\r\n",
        "  cube_index = [i for i, x in enumerate(cube_features) if x == 1]\r\n",
        "  action_index = [i for i, x in enumerate(action_feature) if x == 1]\r\n",
        "  for i in cube_index:\r\n",
        "    for j in action_index:\r\n",
        "      combined_features[i,j] = 1\r\n",
        "  combined_features = combined_features.T.reshape((len(cube_features)*len(action_feature)))\r\n",
        "  return combined_features"
      ],
      "execution_count": null,
      "outputs": []
    },
    {
      "cell_type": "code",
      "metadata": {
        "id": "VuQ9mmfR5vjH"
      },
      "source": [
        "# epsilon-greedy policy, return an action\r\n",
        "def policy(cube_features, epsilon, w):\r\n",
        "  if random.random() < epsilon:\r\n",
        "    return random.randint(0,5)\r\n",
        "  else:\r\n",
        "    Qs = np.zeros((6))\r\n",
        "    for i in range(6):\r\n",
        "      Qs[i] = w.T.dot(combine_features(cube_features, action_features(i)))\r\n",
        "      if len(set(Qs)) == 1:\r\n",
        "        return random.randint(0,5)\r\n",
        "    return np.argmax(Qs)"
      ],
      "execution_count": null,
      "outputs": []
    },
    {
      "cell_type": "code",
      "metadata": {
        "id": "RdBq_FkxtW41"
      },
      "source": [
        "# gradient Monte Carlo\r\n",
        "def Monte_Carlo(cube, alpha, epsilon):\r\n",
        "  w = np.zeros((6*8*8))\r\n",
        "  cube1 = copy.deepcopy(cube)\r\n",
        "  for j in range(10000):\r\n",
        "    if j % 1000 == 0:\r\n",
        "      print('progress: ', j, '/10000')\r\n",
        "    action = 0\r\n",
        "    G = 0\r\n",
        "    reward = -1\r\n",
        "    pair_reached = []\r\n",
        "    rewards = []\r\n",
        "    steps = 0\r\n",
        "    cube2 = copy.deepcopy(cube1)\r\n",
        "    while reward != 1 and steps < 3:\r\n",
        "      cube_features = featurize(cube2)\r\n",
        "      action = policy(cube_features, epsilon, w)\r\n",
        "      pair_reached.append([cube_features,action])\r\n",
        "      cube2, reward = step(cube2, action)\r\n",
        "      rewards.append(reward)\r\n",
        "      steps += 1\r\n",
        "    for i in range(len(pair_reached)):\r\n",
        "      t = len(pair_reached) - 1 - i\r\n",
        "      G = G + rewards[t]\r\n",
        "      pair = pair_reached[t]\r\n",
        "      cube_features = pair[0]\r\n",
        "      action = pair[-1]\r\n",
        "      action_feature = action_features(action)\r\n",
        "      combined_features = combine_features(cube_features, action_feature)\r\n",
        "      w = w + alpha*(G - w.T.dot(combined_features))*combined_features\r\n",
        "  return w"
      ],
      "execution_count": null,
      "outputs": []
    },
    {
      "cell_type": "code",
      "metadata": {
        "colab": {
          "base_uri": "https://localhost:8080/"
        },
        "id": "9T3Flwbx2Dpz",
        "outputId": "1d86664b-8dad-4a8c-8b2f-278c6ad46c8c"
      },
      "source": [
        "cube = scramble(create_cube(), 2)\r\n",
        "#cube1, r= step(create_cube(), 0)\r\n",
        "display_cube(cube)\r\n",
        "display_cube_labels(map_to_8(cube))"
      ],
      "execution_count": null,
      "outputs": [
        {
          "output_type": "stream",
          "text": [
            "        [5. 3.]\n",
            "        [0. 3.]\n",
            "[0. 4.] [1. 5.] [2. 2.]\n",
            "[0. 4.] [1. 0.] [5. 5.]\n",
            "        [2. 1.]\n",
            "        [4. 1.]\n",
            "back\n",
            "        [4. 3.]\n",
            "        [2. 3.]\n",
            "[7. 2.]\n",
            "[4. 3.]\n",
            "=     =\n",
            "[6. 1.]\n",
            "[0. 5.]\n"
          ],
          "name": "stdout"
        }
      ]
    },
    {
      "cell_type": "code",
      "metadata": {
        "colab": {
          "base_uri": "https://localhost:8080/"
        },
        "id": "PfIsYSsM9s0Q",
        "outputId": "c974cd40-b559-495b-da97-6eea079aed43"
      },
      "source": [
        "w = Monte_Carlo(cube, 0.01, 0.1)"
      ],
      "execution_count": null,
      "outputs": [
        {
          "output_type": "stream",
          "text": [
            "progress:  0 /10000\n",
            "progress:  1000 /10000\n",
            "progress:  2000 /10000\n",
            "progress:  3000 /10000\n",
            "progress:  4000 /10000\n",
            "progress:  5000 /10000\n",
            "progress:  6000 /10000\n",
            "progress:  7000 /10000\n",
            "progress:  8000 /10000\n",
            "progress:  9000 /10000\n"
          ],
          "name": "stdout"
        }
      ]
    },
    {
      "cell_type": "code",
      "metadata": {
        "colab": {
          "base_uri": "https://localhost:8080/"
        },
        "id": "3hrF-9MANLsW",
        "outputId": "01bcdc36-4118-40ef-e935-60b83b312d12"
      },
      "source": [
        "display_cube_labels(map_to_8(cube))\r\n",
        "display_cube(cube)\r\n",
        "steps = 0\r\n",
        "r = 0\r\n",
        "while r != 1 and steps < 3:\r\n",
        "  v = np.zeros((6))\r\n",
        "  for i in range(6):\r\n",
        "    buffer = combine_features(featurize(cube),action_features(i))\r\n",
        "    v[i] = w.T.dot(buffer)\r\n",
        "  action = np.argmax(v)\r\n",
        "  print('action: ', action)\r\n",
        "  cube,r = step(cube,action)\r\n",
        "  display_cube_labels(map_to_8(cube))\r\n",
        "  display_cube(cube)\r\n",
        "  steps += 1"
      ],
      "execution_count": null,
      "outputs": [
        {
          "output_type": "stream",
          "text": [
            "[7. 2.]\n",
            "[4. 3.]\n",
            "=     =\n",
            "[6. 1.]\n",
            "[0. 5.]\n",
            "        [5. 3.]\n",
            "        [0. 3.]\n",
            "[0. 4.] [1. 5.] [2. 2.]\n",
            "[0. 4.] [1. 0.] [5. 5.]\n",
            "        [2. 1.]\n",
            "        [4. 1.]\n",
            "back\n",
            "        [4. 3.]\n",
            "        [2. 3.]\n",
            "action:  2\n",
            "[7. 3.]\n",
            "[4. 5.]\n",
            "=     =\n",
            "[6. 2.]\n",
            "[0. 1.]\n",
            "        [5. 5.]\n",
            "        [0. 0.]\n",
            "[0. 4.] [1. 1.] [5. 2.]\n",
            "[0. 4.] [1. 1.] [5. 2.]\n",
            "        [2. 2.]\n",
            "        [4. 4.]\n",
            "back\n",
            "        [3. 3.]\n",
            "        [3. 3.]\n",
            "action:  4\n",
            "[6. 7.]\n",
            "[4. 5.]\n",
            "=     =\n",
            "[2. 3.]\n",
            "[0. 1.]\n",
            "        [0. 0.]\n",
            "        [0. 0.]\n",
            "[4. 4.] [1. 1.] [5. 5.]\n",
            "[4. 4.] [1. 1.] [5. 5.]\n",
            "        [2. 2.]\n",
            "        [2. 2.]\n",
            "back\n",
            "        [3. 3.]\n",
            "        [3. 3.]\n"
          ],
          "name": "stdout"
        }
      ]
    },
    {
      "cell_type": "markdown",
      "metadata": {
        "id": "KIrlaT8c3h85"
      },
      "source": [
        "Part II"
      ]
    },
    {
      "cell_type": "code",
      "metadata": {
        "id": "7anHFa4VAWpB"
      },
      "source": [
        "# simplified cube\r\n",
        "# Here in order to use tabular methods, I simplified the 2*2 rubik's cube\r\n",
        "# by giving the 8 small cubes each a label, from 0-7. By only considering the\r\n",
        "# location of the labelled cube, which doesn't take colors into consideration.\r\n",
        "# The problem is simplied to getting the 8 cubes into their solved location."
      ],
      "execution_count": null,
      "outputs": []
    },
    {
      "cell_type": "code",
      "metadata": {
        "id": "qUcITgSY2sRK"
      },
      "source": [
        "# epsilon-greedy policy for Monte Carlo Control\r\n",
        "def MC_policy(Q_s, epsilon):\r\n",
        "  if random.random() < epsilon:\r\n",
        "    return random.randint(0,5)\r\n",
        "  else:\r\n",
        "    if len(set(Q_s)) == 1:\r\n",
        "      return random.randint(0,5)\r\n",
        "    return np.argmax(Q_s)"
      ],
      "execution_count": null,
      "outputs": []
    },
    {
      "cell_type": "code",
      "metadata": {
        "id": "ncvJS7eFF_Zg"
      },
      "source": [
        "# initialize Q(s,a)\r\n",
        "Q = np.zeros((7,7,7,7,7,7,7,6))\r\n",
        "Qs = np.zeros((100,7,7,7,7,7,7,7,6))"
      ],
      "execution_count": null,
      "outputs": []
    },
    {
      "cell_type": "code",
      "metadata": {
        "id": "G4Ql88UTAa6l",
        "colab": {
          "base_uri": "https://localhost:8080/"
        },
        "outputId": "90dc556e-92ff-43f5-9bf5-0f67df47672f"
      },
      "source": [
        "# Monte Carlo Control\r\n",
        "count = np.zeros((7,7,7,7,7,7,7,6))\r\n",
        "iter = 100000\r\n",
        "Qs_index = 0\r\n",
        "epsilon = 1;\r\n",
        "for j in range(iter):\r\n",
        "  if j%(iter/10) == 0:\r\n",
        "    print('progress: ', j,'/',iter)\r\n",
        "  cube1 = scramble(create_cube(), 3)\r\n",
        "  cube = copy.deepcopy(cube1)\r\n",
        "  reward = 0\r\n",
        "  action = 0\r\n",
        "  G = 0\r\n",
        "  pair_reached = []\r\n",
        "  rewards = []\r\n",
        "  steps = 0\r\n",
        "  while reward != 1 and steps < 5:\r\n",
        "    cube_8 = map_to_8(cube)\r\n",
        "    # ignore the fixed bottom left corner at the front\r\n",
        "    cube_7 = cube_8[1:]\r\n",
        "    cube_7 = list(cube_7)\r\n",
        "    cube_7 = [int(x) - 1 for x in cube_7]\r\n",
        "    action = MC_policy(Q[cube_7[0],cube_7[1],cube_7[2],cube_7[3],cube_7[4],cube_7[5],cube_7[6],:], epsilon)\r\n",
        "    pair_reached.append([cube_7[0],cube_7[1],cube_7[2],cube_7[3],cube_7[4],cube_7[5],cube_7[6],action])\r\n",
        "    cube, reward = step(cube, action)\r\n",
        "    rewards.append(reward)\r\n",
        "    steps += 1\r\n",
        "  for i in range(len(pair_reached)):\r\n",
        "      t = len(pair_reached) - 1 - i\r\n",
        "      G = G + rewards[t]\r\n",
        "      pair = pair_reached[t]\r\n",
        "      first_appear = pair_reached.index(pair) # if this pair appears ealier\r\n",
        "      if first_appear == t:\r\n",
        "        cube_7 = list(np.zeros((7)))\r\n",
        "        for i in range(len(cube_7)):\r\n",
        "          cube_7[i] = int(pair[i])\r\n",
        "        action = int(pair[7])\r\n",
        "        count[cube_7[0],cube_7[1],cube_7[2],cube_7[3],cube_7[4],cube_7[5],cube_7[6],action] += 1\r\n",
        "        Q[cube_7[0],cube_7[1],cube_7[2],cube_7[3],cube_7[4],cube_7[5],cube_7[6],action] = Q[cube_7[0],cube_7[1],cube_7[2],cube_7[3],cube_7[4],cube_7[5],cube_7[6],action] + \\\r\n",
        "                      (G - Q[cube_7[0],cube_7[1],cube_7[2],cube_7[3],cube_7[4],cube_7[5],cube_7[6],action])/count[cube_7[0],cube_7[1],cube_7[2],cube_7[3],cube_7[4],cube_7[5],cube_7[6],action]\r\n",
        "        best_action = int(np.argmax(Q[cube_7[0],cube_7[1],cube_7[2],cube_7[3],cube_7[4],cube_7[5],cube_7[6],:]))\r\n",
        "        minimum_action = min(count[cube_7[0],cube_7[1],cube_7[2],cube_7[3],cube_7[4],cube_7[5],cube_7[6],:])\r\n",
        "        epsilon = 10/(10 + minimum_action)\r\n",
        "  if j % (iter/100) == 0:\r\n",
        "    Qs[Qs_index,:,:,:,:,:,:,:,:] = Q\r\n",
        "    Qs_index += 1"
      ],
      "execution_count": null,
      "outputs": [
        {
          "output_type": "stream",
          "text": [
            "progress:  0 / 100000\n",
            "progress:  10000 / 100000\n",
            "progress:  20000 / 100000\n",
            "progress:  30000 / 100000\n",
            "progress:  40000 / 100000\n",
            "progress:  50000 / 100000\n",
            "progress:  60000 / 100000\n",
            "progress:  70000 / 100000\n",
            "progress:  80000 / 100000\n",
            "progress:  90000 / 100000\n"
          ],
          "name": "stdout"
        }
      ]
    },
    {
      "cell_type": "code",
      "metadata": {
        "id": "rVWItevb7D_G"
      },
      "source": [
        "# get the optimal action for each state\r\n",
        "Actions = np.zeros((7,7,7,7,7,7,7))\r\n",
        "for i0 in range(7):\r\n",
        "  for i1 in range(7):\r\n",
        "    for i2 in range(7):\r\n",
        "      for i3 in range(7):\r\n",
        "        for i4 in range(7):\r\n",
        "          for i5 in range(7):\r\n",
        "            for i6 in range(7):\r\n",
        "              Actions[i0,i1,i2,i3,i4,i5,i6] = int(np.argmax(Q[i0,i1,i2,i3,i4,i5,i6,:]))"
      ],
      "execution_count": null,
      "outputs": []
    },
    {
      "cell_type": "code",
      "metadata": {
        "colab": {
          "base_uri": "https://localhost:8080/"
        },
        "id": "mOLD-koz9-Q3",
        "outputId": "d5ced5d7-8868-40a2-b590-b05571be944d"
      },
      "source": [
        "# test whether the generated action from Q can solve 3-step cubes\r\n",
        "n = 3     # number of scramble steps\r\n",
        "test = scramble(create_cube(),n)\r\n",
        "print('scrambled cube')\r\n",
        "display_cube(test)\r\n",
        "print('=======================')\r\n",
        "for i in range(n):\r\n",
        "  query = list(map_to_8(test))\r\n",
        "  query = [int(x) - 1 for x in query]\r\n",
        "  action = int(Actions[query[1],query[2],query[3],query[4],query[5],query[6],query[7]])\r\n",
        "  print('action: ', action)\r\n",
        "  test,r = step(test,action)\r\n",
        "  display_cube(test)\r\n",
        "  print('=======================')"
      ],
      "execution_count": null,
      "outputs": [
        {
          "output_type": "stream",
          "text": [
            "scrambled cube\n",
            "        [3. 3.]\n",
            "        [0. 3.]\n",
            "[0. 1.] [5. 5.] [2. 2.]\n",
            "[0. 4.] [1. 0.] [3. 5.]\n",
            "        [2. 5.]\n",
            "        [1. 1.]\n",
            "back\n",
            "        [4. 4.]\n",
            "        [2. 4.]\n",
            "=======================\n",
            "action:  2\n",
            "        [3. 5.]\n",
            "        [0. 0.]\n",
            "[0. 1.] [5. 5.] [3. 2.]\n",
            "[0. 4.] [1. 1.] [5. 2.]\n",
            "        [2. 2.]\n",
            "        [1. 4.]\n",
            "back\n",
            "        [3. 4.]\n",
            "        [3. 4.]\n",
            "=======================\n",
            "action:  4\n",
            "        [0. 0.]\n",
            "        [0. 0.]\n",
            "[1. 1.] [5. 5.] [3. 3.]\n",
            "[4. 4.] [1. 1.] [5. 5.]\n",
            "        [2. 2.]\n",
            "        [2. 2.]\n",
            "back\n",
            "        [4. 4.]\n",
            "        [3. 3.]\n",
            "=======================\n",
            "action:  1\n",
            "        [0. 0.]\n",
            "        [0. 0.]\n",
            "[4. 4.] [1. 1.] [5. 5.]\n",
            "[4. 4.] [1. 1.] [5. 5.]\n",
            "        [2. 2.]\n",
            "        [2. 2.]\n",
            "back\n",
            "        [3. 3.]\n",
            "        [3. 3.]\n",
            "=======================\n"
          ],
          "name": "stdout"
        }
      ]
    },
    {
      "cell_type": "code",
      "metadata": {
        "id": "gRdjR4I-kz6m"
      },
      "source": [
        "# Initialize Q(s,a) for Sarsa\r\n",
        "Sarsa_Q = np.zeros((7,7,7,7,7,7,7,6))\r\n",
        "Sarsa_Qs = np.zeros((100,7,7,7,7,7,7,7,6))"
      ],
      "execution_count": null,
      "outputs": []
    },
    {
      "cell_type": "code",
      "metadata": {
        "id": "2R1WjLTBEWER",
        "colab": {
          "base_uri": "https://localhost:8080/"
        },
        "outputId": "350f4645-67ae-416e-f26f-82fe81eedb85"
      },
      "source": [
        "# Sarsa\r\n",
        "alpha = 1\r\n",
        "epsilon = 1\r\n",
        "count = np.zeros((7,7,7,7,7,7,7,6))\r\n",
        "iter = 100000\r\n",
        "Sarsa_Qs_index = 0\r\n",
        "for j in range(iter):\r\n",
        "  if j%(iter/10) == 0:\r\n",
        "    print('progress: ', j,'/',iter)\r\n",
        "  cube1 = scramble(create_cube(), 3)\r\n",
        "  cube = copy.deepcopy(cube1)\r\n",
        "  reward = 0\r\n",
        "  action = random.randint(0,5)\r\n",
        "  steps = 0\r\n",
        "  while reward != 1 and steps < 5:\r\n",
        "    cube_next, reward = step(cube, action)\r\n",
        "    cube_8 = map_to_8(cube)\r\n",
        "    # ignore the fixed bottom left corner at the front\r\n",
        "    cube_7 = cube_8[1:]\r\n",
        "    cube_7 = list(cube_7)\r\n",
        "    cube_7 = [int(x) - 1 for x in cube_7]\r\n",
        "    if reward == 1:\r\n",
        "      Sarsa_Q[cube_7[0],cube_7[1],cube_7[2],cube_7[3],cube_7[4],cube_7[5],cube_7[6],action] = Sarsa_Q[cube_7[0],cube_7[1],cube_7[2],cube_7[3],cube_7[4],cube_7[5],cube_7[6],action]+\\\r\n",
        "                                          alpha*(reward-Sarsa_Q[cube_7[0],cube_7[1],cube_7[2],cube_7[3],cube_7[4],cube_7[5],cube_7[6],action])\r\n",
        "    count[cube_7[0],cube_7[1],cube_7[2],cube_7[3],cube_7[4],cube_7[5],cube_7[6],action] += 1\r\n",
        "    cube_8_next = map_to_8(cube_next)\r\n",
        "    # ignore the fixed bottom left corner at the front\r\n",
        "    cube_7_next = cube_8_next[1:]\r\n",
        "    cube_7_next = list(cube_7_next)\r\n",
        "    cube_7_next = [int(x) - 1 for x in cube_7_next]\r\n",
        "    steps += 1\r\n",
        "    minimum_action = min(count[cube_7[0],cube_7[1],cube_7[2],cube_7[3],cube_7[4],cube_7[5],cube_7[6],:])\r\n",
        "    epsilon = 10/(10+minimum_action)\r\n",
        "    action_next = MC_policy(Q[cube_7_next[0],cube_7_next[1],cube_7_next[2],cube_7_next[3],cube_7_next[4],cube_7_next[5],cube_7_next[6],:], epsilon)\r\n",
        "    alpha = 1/count[cube_7[0],cube_7[1],cube_7[2],cube_7[3],cube_7[4],cube_7[5],cube_7[6],action]\r\n",
        "    Sarsa_Q[cube_7[0],cube_7[1],cube_7[2],cube_7[3],cube_7[4],cube_7[5],cube_7[6],action] = Sarsa_Q[cube_7[0],cube_7[1],cube_7[2],cube_7[3],cube_7[4],cube_7[5],cube_7[6],action]+\\\r\n",
        "                          alpha*(reward+Sarsa_Q[cube_7_next[0],cube_7_next[1],cube_7_next[2],cube_7_next[3],cube_7_next[4],cube_7_next[5],cube_7_next[6],action_next]\r\n",
        "                                 -Sarsa_Q[cube_7[0],cube_7[1],cube_7[2],cube_7[3],cube_7[4],cube_7[5],cube_7[6],action])\r\n",
        "    cube = cube_next\r\n",
        "    action = action_next\r\n",
        "if j % (iter/100) == 0:\r\n",
        "    Sarsa_Qs[Sarsa_Qs_index,:,:,:,:,:,:,:,:] = Sarsa_Q\r\n",
        "    Sarsa_Qs_index += 1"
      ],
      "execution_count": null,
      "outputs": [
        {
          "output_type": "stream",
          "text": [
            "progress:  0 / 100000\n",
            "progress:  10000 / 100000\n",
            "progress:  20000 / 100000\n",
            "progress:  30000 / 100000\n",
            "progress:  40000 / 100000\n",
            "progress:  50000 / 100000\n",
            "progress:  60000 / 100000\n",
            "progress:  70000 / 100000\n",
            "progress:  80000 / 100000\n",
            "progress:  90000 / 100000\n"
          ],
          "name": "stdout"
        }
      ]
    },
    {
      "cell_type": "code",
      "metadata": {
        "id": "2W_n9AMErw3F"
      },
      "source": [
        "# get the optimal action for each state\r\n",
        "Sarsa_actions = np.zeros((7,7,7,7,7,7,7))\r\n",
        "for i0 in range(7):\r\n",
        "  for i1 in range(7):\r\n",
        "    for i2 in range(7):\r\n",
        "      for i3 in range(7):\r\n",
        "        for i4 in range(7):\r\n",
        "          for i5 in range(7):\r\n",
        "            for i6 in range(7):\r\n",
        "              Sarsa_actions[i0,i1,i2,i3,i4,i5,i6] = int(np.argmax(Sarsa_Q[i0,i1,i2,i3,i4,i5,i6,:]))"
      ],
      "execution_count": null,
      "outputs": []
    },
    {
      "cell_type": "code",
      "metadata": {
        "colab": {
          "base_uri": "https://localhost:8080/"
        },
        "id": "vyGD3qoUr5Io",
        "outputId": "9b0cfd14-b61d-47b5-982a-6e778aabc1d3"
      },
      "source": [
        "# test whether the generated action from Sarsa_Q can solve 3-step cubes\r\n",
        "n = 3     # number of scramble steps\r\n",
        "test = scramble(create_cube(),n)\r\n",
        "print('scrambled cube')\r\n",
        "display_cube(test)\r\n",
        "print('=======================')\r\n",
        "for i in range(n):\r\n",
        "  query = list(map_to_8(test))\r\n",
        "  query = [int(x) - 1 for x in query]\r\n",
        "  action = int(Sarsa_actions[query[1],query[2],query[3],query[4],query[5],query[6],query[7]])\r\n",
        "  print('action: ', action)\r\n",
        "  test,r = step(test,action)\r\n",
        "  display_cube(test)\r\n",
        "  print('=======================')"
      ],
      "execution_count": null,
      "outputs": [
        {
          "output_type": "stream",
          "text": [
            "scrambled cube\n",
            "        [3. 3.]\n",
            "        [5. 0.]\n",
            "[4. 3.] [0. 4.] [1. 5.]\n",
            "[0. 4.] [1. 0.] [5. 5.]\n",
            "        [2. 1.]\n",
            "        [4. 1.]\n",
            "back\n",
            "        [2. 2.]\n",
            "        [2. 3.]\n",
            "=======================\n",
            "action:  0\n",
            "        [5. 3.]\n",
            "        [0. 3.]\n",
            "[0. 4.] [1. 5.] [2. 2.]\n",
            "[0. 4.] [1. 0.] [5. 5.]\n",
            "        [2. 1.]\n",
            "        [4. 1.]\n",
            "back\n",
            "        [4. 3.]\n",
            "        [2. 3.]\n",
            "=======================\n",
            "action:  2\n",
            "        [5. 5.]\n",
            "        [0. 0.]\n",
            "[0. 4.] [1. 1.] [5. 2.]\n",
            "[0. 4.] [1. 1.] [5. 2.]\n",
            "        [2. 2.]\n",
            "        [4. 4.]\n",
            "back\n",
            "        [3. 3.]\n",
            "        [3. 3.]\n",
            "=======================\n",
            "action:  4\n",
            "        [0. 0.]\n",
            "        [0. 0.]\n",
            "[4. 4.] [1. 1.] [5. 5.]\n",
            "[4. 4.] [1. 1.] [5. 5.]\n",
            "        [2. 2.]\n",
            "        [2. 2.]\n",
            "back\n",
            "        [3. 3.]\n",
            "        [3. 3.]\n",
            "=======================\n"
          ],
          "name": "stdout"
        }
      ]
    },
    {
      "cell_type": "code",
      "metadata": {
        "id": "Mx0kUh3wp-N5"
      },
      "source": [
        "# compute MSE for each 10000th episode\r\n",
        "MSEs = np.zeros((100))\r\n",
        "for i in range(100):\r\n",
        "  current_Q = Qs[i,:,:,:,:,:,:,:,:]\r\n",
        "  current_Sarsa_Q = Sarsa_Qs[i,:,:,:,:,:,:,:,:]\r\n",
        "  MSE = np.sum(np.square(current_Q - current_Sarsa_Q))\r\n",
        "  MSEs[i] = MSE"
      ],
      "execution_count": null,
      "outputs": []
    },
    {
      "cell_type": "code",
      "metadata": {
        "colab": {
          "base_uri": "https://localhost:8080/",
          "height": 280
        },
        "id": "hFw_IbTUrWBS",
        "outputId": "e4d5289e-4507-43d4-c203-a22dbdf83bff"
      },
      "source": [
        "# plot the MSE\r\n",
        "plt.plot(np.arange(1000,100001,1000),MSEs)\r\n",
        "plt.xlabel('episode number')\r\n",
        "plt.ylabel('Mean-squared error')\r\n",
        "plt.show()"
      ],
      "execution_count": null,
      "outputs": [
        {
          "output_type": "display_data",
          "data": {
            "image/png": "[encoded data removed]",
            "text/plain": [
              "<Figure size 432x288 with 1 Axes>"
            ]
          },
          "metadata": {
            "tags": [],
            "needs_background": "light"
          }
        }
      ]
    },
    {
      "cell_type": "code",
      "metadata": {
        "id": "m_lyJhnXre6Z"
      },
      "source": [
        ""
      ],
      "execution_count": null,
      "outputs": []
    }
  ]
}